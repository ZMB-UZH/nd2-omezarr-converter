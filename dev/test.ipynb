{
 "cells": [
  {
   "cell_type": "code",
   "execution_count": 186,
   "metadata": {},
   "outputs": [],
   "source": [
    "import glob\n",
    "import re\n",
    "from collections.abc import Generator\n",
    "from pathlib import Path\n",
    "from typing import Any\n",
    "\n",
    "import nd2\n",
    "import numpy as np\n",
    "from fractal_converters_tools.tile import Point, Tile, Vector\n",
    "from fractal_converters_tools.tiled_image import (\n",
    "    PlatePathBuilder,\n",
    "    SimplePathBuilder,\n",
    "    TiledImage,\n",
    ")\n",
    "from ngio import PixelSize, create_ome_zarr_from_array\n"
   ]
  },
  {
   "cell_type": "code",
   "execution_count": 265,
   "metadata": {},
   "outputs": [],
   "source": [
    "dir = r\"Z:\\zmbstaff\\9987\\Raw_Data\\BVC_converters\\testData_NikonSD\\ND_Acquisitions\"\n",
    "dir = r\"Z:\\zmbstaff\\9987\\Raw_Data\\BVC_converters\\testData_Nikon_ti2\"\n",
    "fns = glob.glob(dir + \"\\\\*.nd2\")"
   ]
  },
  {
   "cell_type": "code",
   "execution_count": 266,
   "metadata": {},
   "outputs": [
    {
     "data": {
      "text/plain": [
       "['Z:\\\\zmbstaff\\\\9987\\\\Raw_Data\\\\BVC_converters\\\\testData_Nikon_ti2\\\\one channel.nd2',\n",
       " 'Z:\\\\zmbstaff\\\\9987\\\\Raw_Data\\\\BVC_converters\\\\testData_Nikon_ti2\\\\one channel001.nd2',\n",
       " 'Z:\\\\zmbstaff\\\\9987\\\\Raw_Data\\\\BVC_converters\\\\testData_Nikon_ti2\\\\one channel002.nd2',\n",
       " 'Z:\\\\zmbstaff\\\\9987\\\\Raw_Data\\\\BVC_converters\\\\testData_Nikon_ti2\\\\one channel003.nd2',\n",
       " 'Z:\\\\zmbstaff\\\\9987\\\\Raw_Data\\\\BVC_converters\\\\testData_Nikon_ti2\\\\one channel004.nd2',\n",
       " 'Z:\\\\zmbstaff\\\\9987\\\\Raw_Data\\\\BVC_converters\\\\testData_Nikon_ti2\\\\one channel005.nd2',\n",
       " 'Z:\\\\zmbstaff\\\\9987\\\\Raw_Data\\\\BVC_converters\\\\testData_Nikon_ti2\\\\one channel006.nd2']"
      ]
     },
     "execution_count": 266,
     "metadata": {},
     "output_type": "execute_result"
    }
   ],
   "source": [
    "fns"
   ]
  },
  {
   "cell_type": "code",
   "execution_count": 267,
   "metadata": {},
   "outputs": [
    {
     "name": "stdout",
     "output_type": "stream",
     "text": [
      "Z:\\zmbstaff\\9987\\Raw_Data\\BVC_converters\\testData_Nikon_ti2\\one channel.nd2\n",
      "Frozen({'Y': 2304, 'X': 2304})\n",
      "Z:\\zmbstaff\\9987\\Raw_Data\\BVC_converters\\testData_Nikon_ti2\\one channel001.nd2\n",
      "Frozen({'C': 3, 'Y': 2304, 'X': 2304})\n",
      "Z:\\zmbstaff\\9987\\Raw_Data\\BVC_converters\\testData_Nikon_ti2\\one channel002.nd2\n",
      "Frozen({'C': 3, 'Y': 4378, 'X': 4378})\n",
      "Z:\\zmbstaff\\9987\\Raw_Data\\BVC_converters\\testData_Nikon_ti2\\one channel003.nd2\n",
      "Frozen({'C': 3, 'Y': 4378, 'X': 4378})\n",
      "Z:\\zmbstaff\\9987\\Raw_Data\\BVC_converters\\testData_Nikon_ti2\\one channel004.nd2\n",
      "Frozen({'Z': 9, 'C': 3, 'Y': 4378, 'X': 4378})\n",
      "Z:\\zmbstaff\\9987\\Raw_Data\\BVC_converters\\testData_Nikon_ti2\\one channel005.nd2\n",
      "Frozen({'Z': 9, 'C': 3, 'Y': 2304, 'X': 2304})\n",
      "Z:\\zmbstaff\\9987\\Raw_Data\\BVC_converters\\testData_Nikon_ti2\\one channel006.nd2\n",
      "Frozen({'T': 5, 'Z': 9, 'C': 3, 'Y': 2304, 'X': 2304})\n"
     ]
    }
   ],
   "source": [
    "for fn in fns:\n",
    "    data = nd2.imread(fn, xarray=True, dask=True)\n",
    "    print(fn)\n",
    "    print(data.sizes)"
   ]
  },
  {
   "cell_type": "code",
   "execution_count": 276,
   "metadata": {},
   "outputs": [
    {
     "data": {
      "text/plain": [
       "'Z:\\\\zmbstaff\\\\9987\\\\Raw_Data\\\\BVC_converters\\\\testData_Nikon_ti2\\\\one channel.nd2'"
      ]
     },
     "execution_count": 276,
     "metadata": {},
     "output_type": "execute_result"
    }
   ],
   "source": [
    "fn = fns[0]\n",
    "fn"
   ]
  },
  {
   "cell_type": "code",
   "execution_count": 269,
   "metadata": {},
   "outputs": [],
   "source": [
    "fn = r\"Z:\\zmbstaff\\9987\\Raw_Data\\BVC_converters\\testData_NikonSD\\JOBS_WellPlate\\20250506_124144_018\\WellB02_ChannelSD DAPI- EM,SD GFP - EM_Seq0000.nd2\"\n",
    "# fn = r\"Z:\\zmbstaff\\9987\\Raw_Data\\BVC_converters\\testData_NikonSD\\JOBS_WellPlate\\20250506_123741_693\\WellB02_PointB02_0000_ChannelSD DAPI- EM,SD GFP - EM_Seq0000.nd2\""
   ]
  },
  {
   "cell_type": "code",
   "execution_count": 277,
   "metadata": {},
   "outputs": [],
   "source": [
    "data = nd2.imread(fn, xarray=True, dask=True)"
   ]
  },
  {
   "cell_type": "code",
   "execution_count": 278,
   "metadata": {},
   "outputs": [
    {
     "data": {
      "text/html": [
       "<div><svg style=\"position: absolute; width: 0; height: 0; overflow: hidden\">\n",
       "<defs>\n",
       "<symbol id=\"icon-database\" viewBox=\"0 0 32 32\">\n",
       "<path d=\"M16 0c-8.837 0-16 2.239-16 5v4c0 2.761 7.163 5 16 5s16-2.239 16-5v-4c0-2.761-7.163-5-16-5z\"></path>\n",
       "<path d=\"M16 17c-8.837 0-16-2.239-16-5v6c0 2.761 7.163 5 16 5s16-2.239 16-5v-6c0 2.761-7.163 5-16 5z\"></path>\n",
       "<path d=\"M16 26c-8.837 0-16-2.239-16-5v6c0 2.761 7.163 5 16 5s16-2.239 16-5v-6c0 2.761-7.163 5-16 5z\"></path>\n",
       "</symbol>\n",
       "<symbol id=\"icon-file-text2\" viewBox=\"0 0 32 32\">\n",
       "<path d=\"M28.681 7.159c-0.694-0.947-1.662-2.053-2.724-3.116s-2.169-2.030-3.116-2.724c-1.612-1.182-2.393-1.319-2.841-1.319h-15.5c-1.378 0-2.5 1.121-2.5 2.5v27c0 1.378 1.122 2.5 2.5 2.5h23c1.378 0 2.5-1.122 2.5-2.5v-19.5c0-0.448-0.137-1.23-1.319-2.841zM24.543 5.457c0.959 0.959 1.712 1.825 2.268 2.543h-4.811v-4.811c0.718 0.556 1.584 1.309 2.543 2.268zM28 29.5c0 0.271-0.229 0.5-0.5 0.5h-23c-0.271 0-0.5-0.229-0.5-0.5v-27c0-0.271 0.229-0.5 0.5-0.5 0 0 15.499-0 15.5 0v7c0 0.552 0.448 1 1 1h7v19.5z\"></path>\n",
       "<path d=\"M23 26h-14c-0.552 0-1-0.448-1-1s0.448-1 1-1h14c0.552 0 1 0.448 1 1s-0.448 1-1 1z\"></path>\n",
       "<path d=\"M23 22h-14c-0.552 0-1-0.448-1-1s0.448-1 1-1h14c0.552 0 1 0.448 1 1s-0.448 1-1 1z\"></path>\n",
       "<path d=\"M23 18h-14c-0.552 0-1-0.448-1-1s0.448-1 1-1h14c0.552 0 1 0.448 1 1s-0.448 1-1 1z\"></path>\n",
       "</symbol>\n",
       "</defs>\n",
       "</svg>\n",
       "<style>/* CSS stylesheet for displaying xarray objects in jupyterlab.\n",
       " *\n",
       " */\n",
       "\n",
       ":root {\n",
       "  --xr-font-color0: var(--jp-content-font-color0, rgba(0, 0, 0, 1));\n",
       "  --xr-font-color2: var(--jp-content-font-color2, rgba(0, 0, 0, 0.54));\n",
       "  --xr-font-color3: var(--jp-content-font-color3, rgba(0, 0, 0, 0.38));\n",
       "  --xr-border-color: var(--jp-border-color2, #e0e0e0);\n",
       "  --xr-disabled-color: var(--jp-layout-color3, #bdbdbd);\n",
       "  --xr-background-color: var(--jp-layout-color0, white);\n",
       "  --xr-background-color-row-even: var(--jp-layout-color1, white);\n",
       "  --xr-background-color-row-odd: var(--jp-layout-color2, #eeeeee);\n",
       "}\n",
       "\n",
       "html[theme=\"dark\"],\n",
       "html[data-theme=\"dark\"],\n",
       "body[data-theme=\"dark\"],\n",
       "body.vscode-dark {\n",
       "  --xr-font-color0: rgba(255, 255, 255, 1);\n",
       "  --xr-font-color2: rgba(255, 255, 255, 0.54);\n",
       "  --xr-font-color3: rgba(255, 255, 255, 0.38);\n",
       "  --xr-border-color: #1f1f1f;\n",
       "  --xr-disabled-color: #515151;\n",
       "  --xr-background-color: #111111;\n",
       "  --xr-background-color-row-even: #111111;\n",
       "  --xr-background-color-row-odd: #313131;\n",
       "}\n",
       "\n",
       ".xr-wrap {\n",
       "  display: block !important;\n",
       "  min-width: 300px;\n",
       "  max-width: 700px;\n",
       "}\n",
       "\n",
       ".xr-text-repr-fallback {\n",
       "  /* fallback to plain text repr when CSS is not injected (untrusted notebook) */\n",
       "  display: none;\n",
       "}\n",
       "\n",
       ".xr-header {\n",
       "  padding-top: 6px;\n",
       "  padding-bottom: 6px;\n",
       "  margin-bottom: 4px;\n",
       "  border-bottom: solid 1px var(--xr-border-color);\n",
       "}\n",
       "\n",
       ".xr-header > div,\n",
       ".xr-header > ul {\n",
       "  display: inline;\n",
       "  margin-top: 0;\n",
       "  margin-bottom: 0;\n",
       "}\n",
       "\n",
       ".xr-obj-type,\n",
       ".xr-array-name {\n",
       "  margin-left: 2px;\n",
       "  margin-right: 10px;\n",
       "}\n",
       "\n",
       ".xr-obj-type {\n",
       "  color: var(--xr-font-color2);\n",
       "}\n",
       "\n",
       ".xr-sections {\n",
       "  padding-left: 0 !important;\n",
       "  display: grid;\n",
       "  grid-template-columns: 150px auto auto 1fr 0 20px 0 20px;\n",
       "}\n",
       "\n",
       ".xr-section-item {\n",
       "  display: contents;\n",
       "}\n",
       "\n",
       ".xr-section-item input {\n",
       "  display: inline-block;\n",
       "  opacity: 0;\n",
       "  height: 0;\n",
       "}\n",
       "\n",
       ".xr-section-item input + label {\n",
       "  color: var(--xr-disabled-color);\n",
       "}\n",
       "\n",
       ".xr-section-item input:enabled + label {\n",
       "  cursor: pointer;\n",
       "  color: var(--xr-font-color2);\n",
       "}\n",
       "\n",
       ".xr-section-item input:focus + label {\n",
       "  border: 2px solid var(--xr-font-color0);\n",
       "}\n",
       "\n",
       ".xr-section-item input:enabled + label:hover {\n",
       "  color: var(--xr-font-color0);\n",
       "}\n",
       "\n",
       ".xr-section-summary {\n",
       "  grid-column: 1;\n",
       "  color: var(--xr-font-color2);\n",
       "  font-weight: 500;\n",
       "}\n",
       "\n",
       ".xr-section-summary > span {\n",
       "  display: inline-block;\n",
       "  padding-left: 0.5em;\n",
       "}\n",
       "\n",
       ".xr-section-summary-in:disabled + label {\n",
       "  color: var(--xr-font-color2);\n",
       "}\n",
       "\n",
       ".xr-section-summary-in + label:before {\n",
       "  display: inline-block;\n",
       "  content: \"►\";\n",
       "  font-size: 11px;\n",
       "  width: 15px;\n",
       "  text-align: center;\n",
       "}\n",
       "\n",
       ".xr-section-summary-in:disabled + label:before {\n",
       "  color: var(--xr-disabled-color);\n",
       "}\n",
       "\n",
       ".xr-section-summary-in:checked + label:before {\n",
       "  content: \"▼\";\n",
       "}\n",
       "\n",
       ".xr-section-summary-in:checked + label > span {\n",
       "  display: none;\n",
       "}\n",
       "\n",
       ".xr-section-summary,\n",
       ".xr-section-inline-details {\n",
       "  padding-top: 4px;\n",
       "  padding-bottom: 4px;\n",
       "}\n",
       "\n",
       ".xr-section-inline-details {\n",
       "  grid-column: 2 / -1;\n",
       "}\n",
       "\n",
       ".xr-section-details {\n",
       "  display: none;\n",
       "  grid-column: 1 / -1;\n",
       "  margin-bottom: 5px;\n",
       "}\n",
       "\n",
       ".xr-section-summary-in:checked ~ .xr-section-details {\n",
       "  display: contents;\n",
       "}\n",
       "\n",
       ".xr-array-wrap {\n",
       "  grid-column: 1 / -1;\n",
       "  display: grid;\n",
       "  grid-template-columns: 20px auto;\n",
       "}\n",
       "\n",
       ".xr-array-wrap > label {\n",
       "  grid-column: 1;\n",
       "  vertical-align: top;\n",
       "}\n",
       "\n",
       ".xr-preview {\n",
       "  color: var(--xr-font-color3);\n",
       "}\n",
       "\n",
       ".xr-array-preview,\n",
       ".xr-array-data {\n",
       "  padding: 0 5px !important;\n",
       "  grid-column: 2;\n",
       "}\n",
       "\n",
       ".xr-array-data,\n",
       ".xr-array-in:checked ~ .xr-array-preview {\n",
       "  display: none;\n",
       "}\n",
       "\n",
       ".xr-array-in:checked ~ .xr-array-data,\n",
       ".xr-array-preview {\n",
       "  display: inline-block;\n",
       "}\n",
       "\n",
       ".xr-dim-list {\n",
       "  display: inline-block !important;\n",
       "  list-style: none;\n",
       "  padding: 0 !important;\n",
       "  margin: 0;\n",
       "}\n",
       "\n",
       ".xr-dim-list li {\n",
       "  display: inline-block;\n",
       "  padding: 0;\n",
       "  margin: 0;\n",
       "}\n",
       "\n",
       ".xr-dim-list:before {\n",
       "  content: \"(\";\n",
       "}\n",
       "\n",
       ".xr-dim-list:after {\n",
       "  content: \")\";\n",
       "}\n",
       "\n",
       ".xr-dim-list li:not(:last-child):after {\n",
       "  content: \",\";\n",
       "  padding-right: 5px;\n",
       "}\n",
       "\n",
       ".xr-has-index {\n",
       "  font-weight: bold;\n",
       "}\n",
       "\n",
       ".xr-var-list,\n",
       ".xr-var-item {\n",
       "  display: contents;\n",
       "}\n",
       "\n",
       ".xr-var-item > div,\n",
       ".xr-var-item label,\n",
       ".xr-var-item > .xr-var-name span {\n",
       "  background-color: var(--xr-background-color-row-even);\n",
       "  margin-bottom: 0;\n",
       "}\n",
       "\n",
       ".xr-var-item > .xr-var-name:hover span {\n",
       "  padding-right: 5px;\n",
       "}\n",
       "\n",
       ".xr-var-list > li:nth-child(odd) > div,\n",
       ".xr-var-list > li:nth-child(odd) > label,\n",
       ".xr-var-list > li:nth-child(odd) > .xr-var-name span {\n",
       "  background-color: var(--xr-background-color-row-odd);\n",
       "}\n",
       "\n",
       ".xr-var-name {\n",
       "  grid-column: 1;\n",
       "}\n",
       "\n",
       ".xr-var-dims {\n",
       "  grid-column: 2;\n",
       "}\n",
       "\n",
       ".xr-var-dtype {\n",
       "  grid-column: 3;\n",
       "  text-align: right;\n",
       "  color: var(--xr-font-color2);\n",
       "}\n",
       "\n",
       ".xr-var-preview {\n",
       "  grid-column: 4;\n",
       "}\n",
       "\n",
       ".xr-index-preview {\n",
       "  grid-column: 2 / 5;\n",
       "  color: var(--xr-font-color2);\n",
       "}\n",
       "\n",
       ".xr-var-name,\n",
       ".xr-var-dims,\n",
       ".xr-var-dtype,\n",
       ".xr-preview,\n",
       ".xr-attrs dt {\n",
       "  white-space: nowrap;\n",
       "  overflow: hidden;\n",
       "  text-overflow: ellipsis;\n",
       "  padding-right: 10px;\n",
       "}\n",
       "\n",
       ".xr-var-name:hover,\n",
       ".xr-var-dims:hover,\n",
       ".xr-var-dtype:hover,\n",
       ".xr-attrs dt:hover {\n",
       "  overflow: visible;\n",
       "  width: auto;\n",
       "  z-index: 1;\n",
       "}\n",
       "\n",
       ".xr-var-attrs,\n",
       ".xr-var-data,\n",
       ".xr-index-data {\n",
       "  display: none;\n",
       "  background-color: var(--xr-background-color) !important;\n",
       "  padding-bottom: 5px !important;\n",
       "}\n",
       "\n",
       ".xr-var-attrs-in:checked ~ .xr-var-attrs,\n",
       ".xr-var-data-in:checked ~ .xr-var-data,\n",
       ".xr-index-data-in:checked ~ .xr-index-data {\n",
       "  display: block;\n",
       "}\n",
       "\n",
       ".xr-var-data > table {\n",
       "  float: right;\n",
       "}\n",
       "\n",
       ".xr-var-name span,\n",
       ".xr-var-data,\n",
       ".xr-index-name div,\n",
       ".xr-index-data,\n",
       ".xr-attrs {\n",
       "  padding-left: 25px !important;\n",
       "}\n",
       "\n",
       ".xr-attrs,\n",
       ".xr-var-attrs,\n",
       ".xr-var-data,\n",
       ".xr-index-data {\n",
       "  grid-column: 1 / -1;\n",
       "}\n",
       "\n",
       "dl.xr-attrs {\n",
       "  padding: 0;\n",
       "  margin: 0;\n",
       "  display: grid;\n",
       "  grid-template-columns: 125px auto;\n",
       "}\n",
       "\n",
       ".xr-attrs dt,\n",
       ".xr-attrs dd {\n",
       "  padding: 0;\n",
       "  margin: 0;\n",
       "  float: left;\n",
       "  padding-right: 10px;\n",
       "  width: auto;\n",
       "}\n",
       "\n",
       ".xr-attrs dt {\n",
       "  font-weight: normal;\n",
       "  grid-column: 1;\n",
       "}\n",
       "\n",
       ".xr-attrs dt:hover span {\n",
       "  display: inline-block;\n",
       "  background: var(--xr-background-color);\n",
       "  padding-right: 10px;\n",
       "}\n",
       "\n",
       ".xr-attrs dd {\n",
       "  grid-column: 2;\n",
       "  white-space: pre-wrap;\n",
       "  word-break: break-all;\n",
       "}\n",
       "\n",
       ".xr-icon-database,\n",
       ".xr-icon-file-text2,\n",
       ".xr-no-icon {\n",
       "  display: inline-block;\n",
       "  vertical-align: middle;\n",
       "  width: 1em;\n",
       "  height: 1.5em !important;\n",
       "  stroke-width: 0;\n",
       "  stroke: currentColor;\n",
       "  fill: currentColor;\n",
       "}\n",
       "</style><pre class='xr-text-repr-fallback'>&lt;xarray.DataArray &#x27;_dask_block-fd7dadaed45a8434979650a23ff10a09&#x27; (Y: 2304,\n",
       "                                                                  X: 2304)&gt; Size: 11MB\n",
       "dask.array&lt;_dask_block, shape=(2304, 2304), dtype=uint16, chunksize=(2304, 2304), chunktype=numpy.ndarray&gt;\n",
       "Coordinates:\n",
       "  * Y        (Y) float64 18kB 0.0 0.3239 0.6477 0.9716 ... 745.2 745.5 745.8\n",
       "  * X        (X) float64 18kB 0.0 0.3239 0.6477 0.9716 ... 745.2 745.5 745.8\n",
       "Attributes:\n",
       "    metadata:  {&#x27;metadata&#x27;: Metadata(contents=Contents(channelCount=1, frameC...</pre><div class='xr-wrap' style='display:none'><div class='xr-header'><div class='xr-obj-type'>xarray.DataArray</div><div class='xr-array-name'>'_dask_block-fd7dadaed45a8434979650a23ff10a09'</div><ul class='xr-dim-list'><li><span class='xr-has-index'>Y</span>: 2304</li><li><span class='xr-has-index'>X</span>: 2304</li></ul></div><ul class='xr-sections'><li class='xr-section-item'><div class='xr-array-wrap'><input id='section-60034437-7cef-4c5b-a641-df10de2d6ca7' class='xr-array-in' type='checkbox' checked><label for='section-60034437-7cef-4c5b-a641-df10de2d6ca7' title='Show/hide data repr'><svg class='icon xr-icon-database'><use xlink:href='#icon-database'></use></svg></label><div class='xr-array-preview xr-preview'><span>dask.array&lt;chunksize=(2304, 2304), meta=np.ndarray&gt;</span></div><div class='xr-array-data'><table>\n",
       "    <tr>\n",
       "        <td>\n",
       "            <table style=\"border-collapse: collapse;\">\n",
       "                <thead>\n",
       "                    <tr>\n",
       "                        <td> </td>\n",
       "                        <th> Array </th>\n",
       "                        <th> Chunk </th>\n",
       "                    </tr>\n",
       "                </thead>\n",
       "                <tbody>\n",
       "                    \n",
       "                    <tr>\n",
       "                        <th> Bytes </th>\n",
       "                        <td> 10.12 MiB </td>\n",
       "                        <td> 10.12 MiB </td>\n",
       "                    </tr>\n",
       "                    \n",
       "                    <tr>\n",
       "                        <th> Shape </th>\n",
       "                        <td> (2304, 2304) </td>\n",
       "                        <td> (2304, 2304) </td>\n",
       "                    </tr>\n",
       "                    <tr>\n",
       "                        <th> Dask graph </th>\n",
       "                        <td colspan=\"2\"> 1 chunks in 1 graph layer </td>\n",
       "                    </tr>\n",
       "                    <tr>\n",
       "                        <th> Data type </th>\n",
       "                        <td colspan=\"2\"> uint16 numpy.ndarray </td>\n",
       "                    </tr>\n",
       "                </tbody>\n",
       "            </table>\n",
       "        </td>\n",
       "        <td>\n",
       "        <svg width=\"170\" height=\"170\" style=\"stroke:rgb(0,0,0);stroke-width:1\" >\n",
       "\n",
       "  <!-- Horizontal lines -->\n",
       "  <line x1=\"0\" y1=\"0\" x2=\"120\" y2=\"0\" style=\"stroke-width:2\" />\n",
       "  <line x1=\"0\" y1=\"120\" x2=\"120\" y2=\"120\" style=\"stroke-width:2\" />\n",
       "\n",
       "  <!-- Vertical lines -->\n",
       "  <line x1=\"0\" y1=\"0\" x2=\"0\" y2=\"120\" style=\"stroke-width:2\" />\n",
       "  <line x1=\"120\" y1=\"0\" x2=\"120\" y2=\"120\" style=\"stroke-width:2\" />\n",
       "\n",
       "  <!-- Colored Rectangle -->\n",
       "  <polygon points=\"0.0,0.0 120.0,0.0 120.0,120.0 0.0,120.0\" style=\"fill:#ECB172A0;stroke-width:0\"/>\n",
       "\n",
       "  <!-- Text -->\n",
       "  <text x=\"60.000000\" y=\"140.000000\" font-size=\"1.0rem\" font-weight=\"100\" text-anchor=\"middle\" >2304</text>\n",
       "  <text x=\"140.000000\" y=\"60.000000\" font-size=\"1.0rem\" font-weight=\"100\" text-anchor=\"middle\" transform=\"rotate(-90,140.000000,60.000000)\">2304</text>\n",
       "</svg>\n",
       "        </td>\n",
       "    </tr>\n",
       "</table></div></div></li><li class='xr-section-item'><input id='section-26b109e4-a511-4197-b5ef-773810414cb5' class='xr-section-summary-in' type='checkbox'  checked><label for='section-26b109e4-a511-4197-b5ef-773810414cb5' class='xr-section-summary' >Coordinates: <span>(2)</span></label><div class='xr-section-inline-details'></div><div class='xr-section-details'><ul class='xr-var-list'><li class='xr-var-item'><div class='xr-var-name'><span class='xr-has-index'>Y</span></div><div class='xr-var-dims'>(Y)</div><div class='xr-var-dtype'>float64</div><div class='xr-var-preview xr-preview'>0.0 0.3239 0.6477 ... 745.5 745.8</div><input id='attrs-60cff2cb-efa4-4bda-8433-824f12faf91f' class='xr-var-attrs-in' type='checkbox' disabled><label for='attrs-60cff2cb-efa4-4bda-8433-824f12faf91f' title='Show/Hide attributes'><svg class='icon xr-icon-file-text2'><use xlink:href='#icon-file-text2'></use></svg></label><input id='data-4cf6a5f9-92ca-4031-9205-459b5615f161' class='xr-var-data-in' type='checkbox'><label for='data-4cf6a5f9-92ca-4031-9205-459b5615f161' title='Show/Hide data repr'><svg class='icon xr-icon-database'><use xlink:href='#icon-database'></use></svg></label><div class='xr-var-attrs'><dl class='xr-attrs'></dl></div><div class='xr-var-data'><pre>array([0.000000e+00, 3.238599e-01, 6.477198e-01, ..., 7.452016e+02,\n",
       "       7.455255e+02, 7.458494e+02], shape=(2304,))</pre></div></li><li class='xr-var-item'><div class='xr-var-name'><span class='xr-has-index'>X</span></div><div class='xr-var-dims'>(X)</div><div class='xr-var-dtype'>float64</div><div class='xr-var-preview xr-preview'>0.0 0.3239 0.6477 ... 745.5 745.8</div><input id='attrs-70ecf4c1-c916-4633-8d37-715ea891bd8e' class='xr-var-attrs-in' type='checkbox' disabled><label for='attrs-70ecf4c1-c916-4633-8d37-715ea891bd8e' title='Show/Hide attributes'><svg class='icon xr-icon-file-text2'><use xlink:href='#icon-file-text2'></use></svg></label><input id='data-8108686e-8d3c-4d96-8c83-10ab1cd628f0' class='xr-var-data-in' type='checkbox'><label for='data-8108686e-8d3c-4d96-8c83-10ab1cd628f0' title='Show/Hide data repr'><svg class='icon xr-icon-database'><use xlink:href='#icon-database'></use></svg></label><div class='xr-var-attrs'><dl class='xr-attrs'></dl></div><div class='xr-var-data'><pre>array([0.000000e+00, 3.238599e-01, 6.477198e-01, ..., 7.452016e+02,\n",
       "       7.455255e+02, 7.458494e+02], shape=(2304,))</pre></div></li></ul></div></li><li class='xr-section-item'><input id='section-73ded722-61f5-4aca-86d1-0f8b6dfbe381' class='xr-section-summary-in' type='checkbox'  ><label for='section-73ded722-61f5-4aca-86d1-0f8b6dfbe381' class='xr-section-summary' >Indexes: <span>(2)</span></label><div class='xr-section-inline-details'></div><div class='xr-section-details'><ul class='xr-var-list'><li class='xr-var-item'><div class='xr-index-name'><div>Y</div></div><div class='xr-index-preview'>PandasIndex</div><input type='checkbox' disabled/><label></label><input id='index-bb2e5c68-99c8-429a-9a0c-c93f3eb88c7c' class='xr-index-data-in' type='checkbox'/><label for='index-bb2e5c68-99c8-429a-9a0c-c93f3eb88c7c' title='Show/Hide index repr'><svg class='icon xr-icon-database'><use xlink:href='#icon-database'></use></svg></label><div class='xr-index-data'><pre>PandasIndex(Index([               0.0,  0.323859905725534,  0.647719811451068,\n",
       "       0.9715797171766021,  1.295439622902136, 1.6192995286276701,\n",
       "       1.9431594343532042,  2.267019340078738,  2.590879245804272,\n",
       "       2.9147391515298064,\n",
       "       ...\n",
       "         742.934623734375,  743.2584836401006,  743.5823435458261,\n",
       "        743.9062034515516,  744.2300633572772,  744.5539232630027,\n",
       "        744.8777831687282,  745.2016430744538,  745.5255029801793,\n",
       "        745.8493628859048],\n",
       "      dtype=&#x27;float64&#x27;, name=&#x27;Y&#x27;, length=2304))</pre></div></li><li class='xr-var-item'><div class='xr-index-name'><div>X</div></div><div class='xr-index-preview'>PandasIndex</div><input type='checkbox' disabled/><label></label><input id='index-7b996bae-f03b-48c0-8b91-9266c87c6fac' class='xr-index-data-in' type='checkbox'/><label for='index-7b996bae-f03b-48c0-8b91-9266c87c6fac' title='Show/Hide index repr'><svg class='icon xr-icon-database'><use xlink:href='#icon-database'></use></svg></label><div class='xr-index-data'><pre>PandasIndex(Index([               0.0,  0.323859905725534,  0.647719811451068,\n",
       "       0.9715797171766021,  1.295439622902136, 1.6192995286276701,\n",
       "       1.9431594343532042,  2.267019340078738,  2.590879245804272,\n",
       "       2.9147391515298064,\n",
       "       ...\n",
       "         742.934623734375,  743.2584836401006,  743.5823435458261,\n",
       "        743.9062034515516,  744.2300633572772,  744.5539232630027,\n",
       "        744.8777831687282,  745.2016430744538,  745.5255029801793,\n",
       "        745.8493628859048],\n",
       "      dtype=&#x27;float64&#x27;, name=&#x27;X&#x27;, length=2304))</pre></div></li></ul></div></li><li class='xr-section-item'><input id='section-1bd30858-fd65-460f-a8fa-cf1c835aca73' class='xr-section-summary-in' type='checkbox'  checked><label for='section-1bd30858-fd65-460f-a8fa-cf1c835aca73' class='xr-section-summary' >Attributes: <span>(1)</span></label><div class='xr-section-inline-details'></div><div class='xr-section-details'><dl class='xr-attrs'><dt><span>metadata :</span></dt><dd>{&#x27;metadata&#x27;: Metadata(contents=Contents(channelCount=1, frameCount=1), channels=[Channel(channel=ChannelMeta(name=&#x27;Ex395&#x27;, index=0, color=Color(r=0, g=255, b=255, a=1.0), emissionLambdaNm=432.0, excitationLambdaNm=395.0), loops=None, microscope=Microscope(objectiveMagnification=20.0, objectiveName=&#x27;Plan Apo λ 20x Ph2 DM&#x27;, objectiveNumericalAperture=0.75, zoomMagnification=1.0, immersionRefractiveIndex=1.0, projectiveMagnification=None, pinholeDiameterUm=None, modalityFlags=[&#x27;fluorescence&#x27;, &#x27;camera&#x27;]), volume=Volume(axesCalibrated=(True, True, False), axesCalibration=(0.323859905725534, 0.323859905725534, 1.0), axesInterpretation=(&#x27;distance&#x27;, &#x27;distance&#x27;, &#x27;distance&#x27;), bitsPerComponentInMemory=16, bitsPerComponentSignificant=16, cameraTransformationMatrix=(-0.99893357012953, 0.046170580116253024, -0.046170580116253024, -0.99893357012953), componentCount=1, componentDataType=&#x27;unsigned&#x27;, voxelCount=(2304, 2304, 1), componentMaxima=[0.0], componentMinima=[0.0], pixelToStageTransformationMatrix=None))]), &#x27;experiment&#x27;: [], &#x27;attributes&#x27;: Attributes(bitsPerComponentInMemory=16, bitsPerComponentSignificant=16, componentCount=1, heightPx=2304, pixelDataType=&#x27;unsigned&#x27;, sequenceCount=1, widthBytes=4608, widthPx=2304, compressionLevel=None, compressionType=None, tileHeightPx=None, tileWidthPx=None, channelCount=1), &#x27;text_info&#x27;: {&#x27;description&#x27;: &#x27;Metadata:\\r\\nDimensions: λ(1)\\r\\nCamera Name: Fusion, SN:001346\\r\\nNumerical Aperture: 0.75\\r\\nRefractive Index: 1\\r\\n Name: Ex395\\r\\n Component Count: 1\\r\\n Modality: Widefield Fluorescence\\r\\n Camera Settings:   Exposure: 100 ms\\r\\n  Binning: 1x1\\r\\n  Scan Mode: Fast\\r\\n  Temperature: 35.0°C\\r\\n  Denoise.ai OFF\\r\\n  Clarify.ai OFF\\r\\n Microscope Settings:   Microscope: Ti2 Microscope\\r\\n  Nikon Ti2, FilterChanger(Turret-Lo): 2 (MXR00244 - LED-DA/FI/TR/Cy5-4X-B (DAPI / FITC / TRITC / Cy5 - Pinkel Quad))\\r\\n  Nikon Ti2, FilterChanger(EM Wheel1): 2 (MXR00245 - LED-DA/FI/TR/Cy5-0X4M-B (DAPI / FITC / TRITC / Cy5 - Sedat Quad Emitters) (FF01-432/36) (Em1))\\r\\n  Nikon Ti2, Shutter(FL-Lo): Open\\r\\n  LightPath: L100\\r\\n  Condenser: 5 ()\\r\\n  PFS, mirror: Inserted\\r\\n  Zoom: 1.00x\\r\\n  Spectra/AuraII, Shutter(Spectra): Active\\r\\n  Spectra/AuraII, MultiLaser(Spectra):\\r\\n     Line:1; ExW:395; Power: 20.0; On&#x27;, &#x27;capturing&#x27;: &#x27;Fusion, SN:001346\\r\\nExposure: 100 ms\\r\\nBinning: 1x1\\r\\nScan Mode: Fast\\r\\nTemperature: 35.0°C\\r\\nDenoise.ai OFF\\r\\nClarify.ai OFF&#x27;, &#x27;date&#x27;: &#x27;12/5/2024  3:17:30 PM&#x27;, &#x27;optics&#x27;: &#x27;Plan Apo λ 20x Ph2 DM&#x27;}}</dd></dl></div></li></ul></div></div>"
      ],
      "text/plain": [
       "<xarray.DataArray '_dask_block-fd7dadaed45a8434979650a23ff10a09' (Y: 2304,\n",
       "                                                                  X: 2304)> Size: 11MB\n",
       "dask.array<_dask_block, shape=(2304, 2304), dtype=uint16, chunksize=(2304, 2304), chunktype=numpy.ndarray>\n",
       "Coordinates:\n",
       "  * Y        (Y) float64 18kB 0.0 0.3239 0.6477 0.9716 ... 745.2 745.5 745.8\n",
       "  * X        (X) float64 18kB 0.0 0.3239 0.6477 0.9716 ... 745.2 745.5 745.8\n",
       "Attributes:\n",
       "    metadata:  {'metadata': Metadata(contents=Contents(channelCount=1, frameC..."
      ]
     },
     "execution_count": 278,
     "metadata": {},
     "output_type": "execute_result"
    }
   ],
   "source": [
    "data"
   ]
  },
  {
   "cell_type": "code",
   "execution_count": null,
   "metadata": {},
   "outputs": [],
   "source": []
  },
  {
   "cell_type": "code",
   "execution_count": null,
   "metadata": {},
   "outputs": [],
   "source": []
  },
  {
   "cell_type": "code",
   "execution_count": 279,
   "metadata": {},
   "outputs": [
    {
     "data": {
      "text/plain": [
       "dict_keys(['metadata', 'experiment', 'attributes', 'text_info'])"
      ]
     },
     "execution_count": 279,
     "metadata": {},
     "output_type": "execute_result"
    }
   ],
   "source": [
    "data.attrs[\"metadata\"].keys()"
   ]
  },
  {
   "cell_type": "code",
   "execution_count": 280,
   "metadata": {},
   "outputs": [
    {
     "data": {
      "text/plain": [
       "Metadata(contents=Contents(channelCount=1, frameCount=1), channels=[Channel(channel=ChannelMeta(name='Ex395', index=0, color=Color(r=0, g=255, b=255, a=1.0), emissionLambdaNm=432.0, excitationLambdaNm=395.0), loops=None, microscope=Microscope(objectiveMagnification=20.0, objectiveName='Plan Apo λ 20x Ph2 DM', objectiveNumericalAperture=0.75, zoomMagnification=1.0, immersionRefractiveIndex=1.0, projectiveMagnification=None, pinholeDiameterUm=None, modalityFlags=['fluorescence', 'camera']), volume=Volume(axesCalibrated=(True, True, False), axesCalibration=(0.323859905725534, 0.323859905725534, 1.0), axesInterpretation=('distance', 'distance', 'distance'), bitsPerComponentInMemory=16, bitsPerComponentSignificant=16, cameraTransformationMatrix=(-0.99893357012953, 0.046170580116253024, -0.046170580116253024, -0.99893357012953), componentCount=1, componentDataType='unsigned', voxelCount=(2304, 2304, 1), componentMaxima=[0.0], componentMinima=[0.0], pixelToStageTransformationMatrix=None))])"
      ]
     },
     "execution_count": 280,
     "metadata": {},
     "output_type": "execute_result"
    }
   ],
   "source": [
    "data.attrs[\"metadata\"][\"metadata\"]"
   ]
  },
  {
   "cell_type": "code",
   "execution_count": 281,
   "metadata": {},
   "outputs": [
    {
     "data": {
      "text/plain": [
       "Volume(axesCalibrated=(True, True, False), axesCalibration=(0.323859905725534, 0.323859905725534, 1.0), axesInterpretation=('distance', 'distance', 'distance'), bitsPerComponentInMemory=16, bitsPerComponentSignificant=16, cameraTransformationMatrix=(-0.99893357012953, 0.046170580116253024, -0.046170580116253024, -0.99893357012953), componentCount=1, componentDataType='unsigned', voxelCount=(2304, 2304, 1), componentMaxima=[0.0], componentMinima=[0.0], pixelToStageTransformationMatrix=None)"
      ]
     },
     "execution_count": 281,
     "metadata": {},
     "output_type": "execute_result"
    }
   ],
   "source": [
    "data.attrs[\"metadata\"][\"metadata\"].channels[0].volume"
   ]
  },
  {
   "cell_type": "code",
   "execution_count": 282,
   "metadata": {},
   "outputs": [
    {
     "data": {
      "text/plain": [
       "[]"
      ]
     },
     "execution_count": 282,
     "metadata": {},
     "output_type": "execute_result"
    }
   ],
   "source": [
    "data.attrs[\"metadata\"][\"experiment\"]"
   ]
  },
  {
   "cell_type": "code",
   "execution_count": 283,
   "metadata": {},
   "outputs": [
    {
     "data": {
      "text/plain": [
       "Attributes(bitsPerComponentInMemory=16, bitsPerComponentSignificant=16, componentCount=1, heightPx=2304, pixelDataType='unsigned', sequenceCount=1, widthBytes=4608, widthPx=2304, compressionLevel=None, compressionType=None, tileHeightPx=None, tileWidthPx=None, channelCount=1)"
      ]
     },
     "execution_count": 283,
     "metadata": {},
     "output_type": "execute_result"
    }
   ],
   "source": [
    "data.attrs[\"metadata\"][\"attributes\"]"
   ]
  },
  {
   "cell_type": "code",
   "execution_count": 284,
   "metadata": {},
   "outputs": [
    {
     "data": {
      "text/plain": [
       "{'description': 'Metadata:\\r\\nDimensions: λ(1)\\r\\nCamera Name: Fusion, SN:001346\\r\\nNumerical Aperture: 0.75\\r\\nRefractive Index: 1\\r\\n Name: Ex395\\r\\n Component Count: 1\\r\\n Modality: Widefield Fluorescence\\r\\n Camera Settings:   Exposure: 100 ms\\r\\n  Binning: 1x1\\r\\n  Scan Mode: Fast\\r\\n  Temperature: 35.0°C\\r\\n  Denoise.ai OFF\\r\\n  Clarify.ai OFF\\r\\n Microscope Settings:   Microscope: Ti2 Microscope\\r\\n  Nikon Ti2, FilterChanger(Turret-Lo): 2 (MXR00244 - LED-DA/FI/TR/Cy5-4X-B (DAPI / FITC / TRITC / Cy5 - Pinkel Quad))\\r\\n  Nikon Ti2, FilterChanger(EM Wheel1): 2 (MXR00245 - LED-DA/FI/TR/Cy5-0X4M-B (DAPI / FITC / TRITC / Cy5 - Sedat Quad Emitters) (FF01-432/36) (Em1))\\r\\n  Nikon Ti2, Shutter(FL-Lo): Open\\r\\n  LightPath: L100\\r\\n  Condenser: 5 ()\\r\\n  PFS, mirror: Inserted\\r\\n  Zoom: 1.00x\\r\\n  Spectra/AuraII, Shutter(Spectra): Active\\r\\n  Spectra/AuraII, MultiLaser(Spectra):\\r\\n     Line:1; ExW:395; Power: 20.0; On',\n",
       " 'capturing': 'Fusion, SN:001346\\r\\nExposure: 100 ms\\r\\nBinning: 1x1\\r\\nScan Mode: Fast\\r\\nTemperature: 35.0°C\\r\\nDenoise.ai OFF\\r\\nClarify.ai OFF',\n",
       " 'date': '12/5/2024  3:17:30 PM',\n",
       " 'optics': 'Plan Apo λ 20x Ph2 DM'}"
      ]
     },
     "execution_count": 284,
     "metadata": {},
     "output_type": "execute_result"
    }
   ],
   "source": [
    "data.attrs[\"metadata\"][\"text_info\"]"
   ]
  },
  {
   "cell_type": "code",
   "execution_count": null,
   "metadata": {},
   "outputs": [],
   "source": []
  },
  {
   "cell_type": "code",
   "execution_count": null,
   "metadata": {},
   "outputs": [],
   "source": []
  },
  {
   "cell_type": "code",
   "execution_count": null,
   "metadata": {},
   "outputs": [],
   "source": []
  },
  {
   "cell_type": "code",
   "execution_count": null,
   "metadata": {},
   "outputs": [],
   "source": []
  },
  {
   "cell_type": "code",
   "execution_count": 285,
   "metadata": {},
   "outputs": [
    {
     "ename": "AttributeError",
     "evalue": "'NoneType' object has no attribute 'close'",
     "output_type": "error",
     "traceback": [
      "\u001b[31m---------------------------------------------------------------------------\u001b[39m",
      "\u001b[31mAttributeError\u001b[39m                            Traceback (most recent call last)",
      "\u001b[36mCell\u001b[39m\u001b[36m \u001b[39m\u001b[32mIn[285]\u001b[39m\u001b[32m, line 1\u001b[39m\n\u001b[32m----> \u001b[39m\u001b[32m1\u001b[39m \u001b[43mnd2file\u001b[49m\u001b[43m.\u001b[49m\u001b[43mclose\u001b[49m()\n",
      "\u001b[31mAttributeError\u001b[39m: 'NoneType' object has no attribute 'close'"
     ]
    }
   ],
   "source": [
    "nd2file.close()"
   ]
  },
  {
   "cell_type": "code",
   "execution_count": 159,
   "metadata": {},
   "outputs": [],
   "source": [
    "nd2file = nd2.ND2File(fn)"
   ]
  },
  {
   "cell_type": "code",
   "execution_count": 160,
   "metadata": {},
   "outputs": [
    {
     "data": {
      "text/plain": [
       "38848.6"
      ]
     },
     "execution_count": 160,
     "metadata": {},
     "output_type": "execute_result"
    }
   ],
   "source": [
    "nd2file.frame_metadata(0).channels[0].position.stagePositionUm.x"
   ]
  },
  {
   "cell_type": "code",
   "execution_count": 161,
   "metadata": {},
   "outputs": [
    {
     "ename": "AttributeError",
     "evalue": "'FrameMetadata' object has no attribute 'position'",
     "output_type": "error",
     "traceback": [
      "\u001b[31m---------------------------------------------------------------------------\u001b[39m",
      "\u001b[31mAttributeError\u001b[39m                            Traceback (most recent call last)",
      "\u001b[36mCell\u001b[39m\u001b[36m \u001b[39m\u001b[32mIn[161]\u001b[39m\u001b[32m, line 1\u001b[39m\n\u001b[32m----> \u001b[39m\u001b[32m1\u001b[39m \u001b[43mnd2file\u001b[49m\u001b[43m.\u001b[49m\u001b[43mframe_metadata\u001b[49m\u001b[43m(\u001b[49m\u001b[32;43m0\u001b[39;49m\u001b[43m)\u001b[49m\u001b[43m.\u001b[49m\u001b[43mposition\u001b[49m\n",
      "\u001b[31mAttributeError\u001b[39m: 'FrameMetadata' object has no attribute 'position'"
     ]
    }
   ],
   "source": [
    "nd2file.frame_metadata(0).position"
   ]
  },
  {
   "cell_type": "code",
   "execution_count": 162,
   "metadata": {},
   "outputs": [
    {
     "data": {
      "text/plain": [
       "False"
      ]
     },
     "execution_count": 162,
     "metadata": {},
     "output_type": "execute_result"
    }
   ],
   "source": [
    "set(data.dims).issubset((\"P\", \"Z\", \"Y\", \"X\"))\n"
   ]
  },
  {
   "cell_type": "code",
   "execution_count": 163,
   "metadata": {},
   "outputs": [
    {
     "data": {
      "text/plain": [
       "('C', 'Y', 'X')"
      ]
     },
     "execution_count": 163,
     "metadata": {},
     "output_type": "execute_result"
    }
   ],
   "source": [
    "data.dims"
   ]
  },
  {
   "cell_type": "code",
   "execution_count": 286,
   "metadata": {},
   "outputs": [],
   "source": [
    "class nd2TileLoader:\n",
    "    \"\"\"nd2 tile loader.\"\"\"\n",
    "\n",
    "    def __init__(self, path: str, p: int):\n",
    "        \"\"\"Initialize LifTileLoader.\"\"\"\n",
    "        self.path = path\n",
    "        self.p = p\n",
    "\n",
    "    @property\n",
    "    def dtype(self):\n",
    "        \"\"\"Get the data type of the tile.\"\"\"\n",
    "        with nd2.ND2File(self.path) as nd2file:\n",
    "            dtype = nd2file.dtype\n",
    "        return dtype\n",
    "\n",
    "    def load(self) -> np.ndarray:\n",
    "        \"\"\"Load the tile data.\"\"\"\n",
    "        tile_data = nd2.imread(self.path, xarray=True, dask=True)\n",
    "        if \"P\" in tile_data.dims:\n",
    "            tile_data = tile_data.isel(P=self.p)\n",
    "        if not set(tile_data.dims).issubset((\"T\", \"C\", \"Z\", \"Y\", \"X\")):\n",
    "            raise ValueError(\n",
    "                f\"Data can only have dimensions T, C, Z, Y, X. Found: {tile_data.dims}\"\n",
    "            )\n",
    "        if \"Z\" not in tile_data.dims:\n",
    "            tile_data = tile_data.expand_dims(Z=1, axis=0)\n",
    "        if \"C\" not in tile_data.dims:\n",
    "            tile_data = tile_data.expand_dims(C=1, axis=0)\n",
    "        if \"T\" not in tile_data.dims:\n",
    "            tile_data = tile_data.expand_dims(T=1, axis=0)\n",
    "        if tile_data.dims != (\"T\", \"C\", \"Z\", \"Y\", \"X\"):\n",
    "            tile_data = tile_data.transpose(\"T\", \"C\", \"Z\", \"Y\", \"X\")\n",
    "\n",
    "        return tile_data.data.compute()"
   ]
  },
  {
   "cell_type": "code",
   "execution_count": 287,
   "metadata": {},
   "outputs": [],
   "source": [
    "def build_tiles(nd2file) -> Generator[Tile, Any, None]:\n",
    "    \"\"\"Build tiles from nd2 file.\"\"\"\n",
    "    shape_x = nd2file.sizes[\"X\"] if \"X\" in nd2file.sizes else 1\n",
    "    shape_y = nd2file.sizes[\"Y\"] if \"Y\" in nd2file.sizes else 1\n",
    "    shape_z = nd2file.sizes[\"Z\"] if \"Z\" in nd2file.sizes else 1\n",
    "    shape_c = nd2file.sizes[\"C\"] if \"C\" in nd2file.sizes else 1\n",
    "    shape_t = nd2file.sizes[\"T\"] if \"T\" in nd2file.sizes else 1\n",
    "\n",
    "    # scale factors [um]/[px]\n",
    "    scale_x = nd2file.voxel_size().x\n",
    "    scale_y = nd2file.voxel_size().y\n",
    "    scale_z = nd2file.voxel_size().z\n",
    "    scale_t = 1  # TODO: read correctly from metadata\n",
    "\n",
    "    # [um]\n",
    "    length_x = shape_x * scale_x\n",
    "    length_y = shape_y * scale_y\n",
    "    length_z = shape_z * scale_z\n",
    "    length_t = shape_t * scale_t\n",
    "\n",
    "    if \"P\" in nd2file.sizes:\n",
    "        loops = {experiment.type: experiment for experiment in nd2file.experiment}\n",
    "        if \"XYPosLoop\" not in loops.keys():\n",
    "            raise ValueError(\n",
    "                f\"The nd2 file {nd2file.path} contains multiple positions, \"\n",
    "                \"but no XYPosLoop was found in metadata.\"\n",
    "            )\n",
    "        for p, pnt in enumerate(loops[\"XYPosLoop\"].parameters.points):\n",
    "            top_l = Point(\n",
    "                x=pnt.stagePositionUm.x,\n",
    "                y=pnt.stagePositionUm.y,\n",
    "                z=pnt.stagePositionUm.z,\n",
    "                c=0,\n",
    "                t=0,\n",
    "            )\n",
    "            diag = Vector(x=length_x, y=length_y, z=length_z, c=shape_c, t=length_t)\n",
    "            tile_loader = nd2TileLoader(path=nd2file.path, p=p)\n",
    "            pixel_size = PixelSize(x=scale_x, y=scale_y, z=scale_z)\n",
    "            tile = Tile(\n",
    "                top_l=top_l,\n",
    "                diag=diag,\n",
    "                pixel_size=pixel_size,\n",
    "                data_loader=tile_loader,\n",
    "            )\n",
    "            yield tile\n",
    "    else:\n",
    "        # TODO: check if this holds...\n",
    "        pnt = nd2file.frame_metadata(0).channels[0].position\n",
    "        top_l = Point(\n",
    "            x=pnt.stagePositionUm.x,\n",
    "            y=pnt.stagePositionUm.y,\n",
    "            z=pnt.stagePositionUm.z,\n",
    "            c=0,\n",
    "            t=0,\n",
    "        )\n",
    "        diag = Vector(x=length_x, y=length_y, z=length_z, c=shape_c, t=length_t)\n",
    "        pixel_size = PixelSize(x=scale_x, y=scale_y, z=scale_z)\n",
    "        tile_loader = nd2TileLoader(path=nd2file.path, p=None)\n",
    "        tile = Tile(\n",
    "            top_l=top_l,\n",
    "            diag=diag,\n",
    "            pixel_size=pixel_size,\n",
    "            data_loader=tile_loader,\n",
    "        )\n",
    "        yield tile"
   ]
  },
  {
   "cell_type": "code",
   "execution_count": 288,
   "metadata": {},
   "outputs": [],
   "source": [
    "def parse_well_info(fn):\n",
    "    pattern = r\"Well([A-Z])(\\d+)\"\n",
    "    match = re.search(pattern, Path(fn).stem)\n",
    "    if match:\n",
    "        row = match.group(1)\n",
    "        col = int(match.group(2))\n",
    "        return row, col\n",
    "    else:\n",
    "        raise ValueError(f\"Well info not found in filename {fn}\")"
   ]
  },
  {
   "cell_type": "code",
   "execution_count": 289,
   "metadata": {},
   "outputs": [],
   "source": [
    "def build_tiled_image(\n",
    "    nd2_path: str | Path,\n",
    "    zarr_name: str | None = None,\n",
    "    acquisition_id: int | None = None,\n",
    "    plate: bool = False,\n",
    ") -> list[TiledImage]:\n",
    "    \"\"\"Build tiled image from nd2 file.\"\"\"\n",
    "    nd2file = nd2.ND2File(nd2_path)\n",
    "    if zarr_name is None:\n",
    "        _zarr_name = f\"{Path(nd2_path).stem}\"\n",
    "        _zarr_name = _zarr_name.replace(\" \", \"_\")\n",
    "    else:\n",
    "        _zarr_name = zarr_name\n",
    "\n",
    "    # load channel info\n",
    "    channel_names = []\n",
    "    channel_wavelengths = []\n",
    "    for channel in nd2file.metadata.channels:\n",
    "        channel_names.append(channel.channel.name)\n",
    "        channel_wavelengths.append(channel.channel.excitationLambdaNm)\n",
    "\n",
    "    # Define path builder for relative ome-zarr path\n",
    "    if plate:\n",
    "        row, col = parse_well_info(nd2_path)\n",
    "        _path_builder = PlatePathBuilder(\n",
    "            plate_name=_zarr_name,\n",
    "            row=row,\n",
    "            column=col,\n",
    "            acquisition_id=acquisition_id if acquisition_id is not None else 0,\n",
    "        )\n",
    "    else:\n",
    "        if acquisition_id is not None:\n",
    "            raise NotImplementedError(\n",
    "                \"acquisition_id is not yet supported for non-plate data.\"\n",
    "            )\n",
    "            # TODO: add support for acquisition_id\n",
    "            # (needs to be implemented in SimplePathBuilder in fractal_converters_tools)\n",
    "        _path_builder = SimplePathBuilder(\n",
    "            path=_zarr_name,\n",
    "        )\n",
    "\n",
    "    # Build tiles\n",
    "    tiled_image = TiledImage(\n",
    "        name=nd2_path,\n",
    "        path_builder=_path_builder,\n",
    "        channel_names=channel_names,\n",
    "        wavelength_ids =channel_wavelengths,\n",
    "    )\n",
    "    for tile in build_tiles(nd2file):\n",
    "        tiled_image.add_tile(tile)\n",
    "\n",
    "    nd2file.close()\n",
    "    return tiled_image"
   ]
  },
  {
   "cell_type": "code",
   "execution_count": 291,
   "metadata": {},
   "outputs": [],
   "source": [
    "out = build_tiled_image(\n",
    "    nd2_path = fn,\n",
    "    zarr_name = 'test',\n",
    "    acquisition_id = None,\n",
    "    plate = False,\n",
    ")"
   ]
  },
  {
   "cell_type": "code",
   "execution_count": 292,
   "metadata": {},
   "outputs": [
    {
     "data": {
      "text/plain": [
       "'Z:\\\\zmbstaff\\\\9987\\\\Raw_Data\\\\BVC_converters\\\\testData_Nikon_ti2\\\\one channel.nd2'"
      ]
     },
     "execution_count": 292,
     "metadata": {},
     "output_type": "execute_result"
    }
   ],
   "source": [
    "fn"
   ]
  },
  {
   "cell_type": "code",
   "execution_count": 294,
   "metadata": {},
   "outputs": [
    {
     "data": {
      "text/plain": [
       "[Tile(xyzct=(14720.2, -4870.8, 4688.76, 0, 0), diag=(746.1732227916305, 746.1732227916305, 1.0, 1, 1)), origin=(14720.2, -4870.8), space=TileSpace.REAL)]"
      ]
     },
     "execution_count": 294,
     "metadata": {},
     "output_type": "execute_result"
    }
   ],
   "source": [
    "out.tiles"
   ]
  },
  {
   "cell_type": "code",
   "execution_count": 300,
   "metadata": {},
   "outputs": [
    {
     "data": {
      "text/plain": [
       "'test_one channel'"
      ]
     },
     "execution_count": 300,
     "metadata": {},
     "output_type": "execute_result"
    }
   ],
   "source": [
    "f\"{\"test\"}_{Path(fn).stem}\""
   ]
  },
  {
   "cell_type": "code",
   "execution_count": 168,
   "metadata": {},
   "outputs": [
    {
     "name": "stdout",
     "output_type": "stream",
     "text": [
      "(1, 2, 1, 512, 1024)\n"
     ]
    }
   ],
   "source": [
    "for i in build_tiles(nd2file):\n",
    "    print(i.load().shape)"
   ]
  },
  {
   "cell_type": "code",
   "execution_count": 105,
   "metadata": {},
   "outputs": [
    {
     "data": {
      "text/plain": [
       "'Z:\\\\zmbstaff\\\\9987\\\\Raw_Data\\\\BVC_converters\\\\testData_NikonSD\\\\ND_Acquisitions\\\\01_0c_0z.nd2'"
      ]
     },
     "execution_count": 105,
     "metadata": {},
     "output_type": "execute_result"
    }
   ],
   "source": [
    "fn"
   ]
  },
  {
   "cell_type": "code",
   "execution_count": 102,
   "metadata": {},
   "outputs": [
    {
     "name": "stderr",
     "output_type": "stream",
     "text": [
      "C:\\Users\\local_f.sturzenegger\\Temp\\23\\ipykernel_19964\\3175704724.py:1: UserWarning: ND2File file not closed before garbage collection. Please use `with ND2File(...):` context or call `.close()`.\n",
      "  nd2file = nd2.ND2File(fn)\n"
     ]
    }
   ],
   "source": [
    "nd2file = nd2.ND2File(fn)\n",
    "\n",
    "shape_x = nd2file.sizes[\"X\"] if \"X\" in nd2file.sizes else 1\n",
    "shape_y = nd2file.sizes[\"Y\"] if \"Y\" in nd2file.sizes else 1\n",
    "shape_z = nd2file.sizes[\"Z\"] if \"Z\" in nd2file.sizes else 1\n",
    "shape_c = nd2file.sizes[\"C\"] if \"C\" in nd2file.sizes else 1\n",
    "shape_t = nd2file.sizes[\"T\"] if \"T\" in nd2file.sizes else 1\n",
    "\n",
    "# scale factors [um]/[px]\n",
    "scale_x = nd2file.voxel_size().x\n",
    "scale_y = nd2file.voxel_size().y\n",
    "scale_z = nd2file.voxel_size().z\n",
    "scale_t = 1  # TODO: read correctly from metadata\n",
    "\n",
    "# [um]\n",
    "length_x = shape_x * scale_x\n",
    "length_y = shape_y * scale_y\n",
    "length_z = shape_z * scale_z\n",
    "length_t = shape_t * scale_t\n",
    "\n",
    "for experiment in nd2file.experiment:\n",
    "    if experiment.type == \"XYPosLoop\":\n",
    "        for p, pnt in enumerate(experiment.parameters.points):\n",
    "            top_l = Point(\n",
    "                x=pnt.stagePositionUm.x,\n",
    "                y=pnt.stagePositionUm.y,\n",
    "                z=pnt.stagePositionUm.z,\n",
    "                c=0,\n",
    "                t=0,\n",
    "            )\n",
    "            diag = Vector(x=length_x, y=length_y, z=length_z, c=shape_c, t=length_t)\n",
    "\n",
    "            tile_loader = nd2TileLoader(path=fn, p=p)\n"
   ]
  },
  {
   "cell_type": "code",
   "execution_count": 63,
   "metadata": {},
   "outputs": [
    {
     "data": {
      "text/plain": [
       "Point(x=39523.3, y=-22161.300000000003, z=5720.240000000001, c=0, t=0)"
      ]
     },
     "execution_count": 63,
     "metadata": {},
     "output_type": "execute_result"
    }
   ],
   "source": [
    "top_l"
   ]
  },
  {
   "cell_type": "code",
   "execution_count": null,
   "metadata": {},
   "outputs": [],
   "source": []
  },
  {
   "cell_type": "code",
   "execution_count": null,
   "metadata": {},
   "outputs": [],
   "source": []
  },
  {
   "cell_type": "code",
   "execution_count": null,
   "metadata": {},
   "outputs": [],
   "source": []
  },
  {
   "cell_type": "code",
   "execution_count": null,
   "metadata": {},
   "outputs": [],
   "source": []
  },
  {
   "cell_type": "code",
   "execution_count": null,
   "metadata": {},
   "outputs": [],
   "source": []
  },
  {
   "cell_type": "code",
   "execution_count": null,
   "metadata": {},
   "outputs": [],
   "source": []
  }
 ],
 "metadata": {
  "kernelspec": {
   "display_name": "fs_nd2-omezarr-converter",
   "language": "python",
   "name": "python3"
  },
  "language_info": {
   "codemirror_mode": {
    "name": "ipython",
    "version": 3
   },
   "file_extension": ".py",
   "mimetype": "text/x-python",
   "name": "python",
   "nbconvert_exporter": "python",
   "pygments_lexer": "ipython3",
   "version": "3.12.9"
  }
 },
 "nbformat": 4,
 "nbformat_minor": 2
}
